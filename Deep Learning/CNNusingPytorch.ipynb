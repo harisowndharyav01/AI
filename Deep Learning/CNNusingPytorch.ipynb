{
  "nbformat": 4,
  "nbformat_minor": 0,
  "metadata": {
    "colab": {
      "provenance": [],
      "gpuType": "T4",
      "authorship_tag": "ABX9TyOe/fzZlgFM2nC7jRsyq2RU",
      "include_colab_link": true
    },
    "kernelspec": {
      "name": "python3",
      "display_name": "Python 3"
    },
    "language_info": {
      "name": "python"
    },
    "accelerator": "GPU"
  },
  "cells": [
    {
      "cell_type": "markdown",
      "metadata": {
        "id": "view-in-github",
        "colab_type": "text"
      },
      "source": [
        "<a href=\"https://colab.research.google.com/github/harisowndharyav01/AI/blob/main/Deep%20Learning/CNNusingPytorch.ipynb\" target=\"_parent\"><img src=\"https://colab.research.google.com/assets/colab-badge.svg\" alt=\"Open In Colab\"/></a>"
      ]
    },
    {
      "cell_type": "code",
      "execution_count": 1,
      "metadata": {
        "id": "zouysc35CSxR"
      },
      "outputs": [],
      "source": [
        "\n",
        "import torch\n",
        "import torch.nn as nn\n",
        "import torch.optim as optim\n",
        "import torchvision\n",
        "import torch.nn.functional as F\n",
        "import torchvision.transforms as transforms\n"
      ]
    },
    {
      "cell_type": "code",
      "source": [
        "transform=transforms.Compose([transforms.ToTensor(),transforms.Normalize((0.1307,),(0.3081))])"
      ],
      "metadata": {
        "id": "buC0pYQFCjhZ"
      },
      "execution_count": 2,
      "outputs": []
    },
    {
      "cell_type": "code",
      "source": [
        "trainset = torchvision.datasets.FashionMNIST(root='./data', train=True, download=True, transform=transform)"
      ],
      "metadata": {
        "colab": {
          "base_uri": "https://localhost:8080/"
        },
        "id": "x81Wsia7CpwT",
        "outputId": "4cc5b6c7-b85f-4b79-bd59-129293285aa3"
      },
      "execution_count": 3,
      "outputs": [
        {
          "output_type": "stream",
          "name": "stdout",
          "text": [
            "Downloading http://fashion-mnist.s3-website.eu-central-1.amazonaws.com/train-images-idx3-ubyte.gz\n",
            "Downloading http://fashion-mnist.s3-website.eu-central-1.amazonaws.com/train-images-idx3-ubyte.gz to ./data/FashionMNIST/raw/train-images-idx3-ubyte.gz\n"
          ]
        },
        {
          "output_type": "stream",
          "name": "stderr",
          "text": [
            "100%|██████████| 26421880/26421880 [00:01<00:00, 15745748.58it/s]\n"
          ]
        },
        {
          "output_type": "stream",
          "name": "stdout",
          "text": [
            "Extracting ./data/FashionMNIST/raw/train-images-idx3-ubyte.gz to ./data/FashionMNIST/raw\n",
            "\n",
            "Downloading http://fashion-mnist.s3-website.eu-central-1.amazonaws.com/train-labels-idx1-ubyte.gz\n",
            "Downloading http://fashion-mnist.s3-website.eu-central-1.amazonaws.com/train-labels-idx1-ubyte.gz to ./data/FashionMNIST/raw/train-labels-idx1-ubyte.gz\n"
          ]
        },
        {
          "output_type": "stream",
          "name": "stderr",
          "text": [
            "100%|██████████| 29515/29515 [00:00<00:00, 267996.06it/s]\n"
          ]
        },
        {
          "output_type": "stream",
          "name": "stdout",
          "text": [
            "Extracting ./data/FashionMNIST/raw/train-labels-idx1-ubyte.gz to ./data/FashionMNIST/raw\n",
            "\n",
            "Downloading http://fashion-mnist.s3-website.eu-central-1.amazonaws.com/t10k-images-idx3-ubyte.gz\n",
            "Downloading http://fashion-mnist.s3-website.eu-central-1.amazonaws.com/t10k-images-idx3-ubyte.gz to ./data/FashionMNIST/raw/t10k-images-idx3-ubyte.gz\n"
          ]
        },
        {
          "output_type": "stream",
          "name": "stderr",
          "text": [
            "100%|██████████| 4422102/4422102 [00:00<00:00, 5031320.25it/s]\n"
          ]
        },
        {
          "output_type": "stream",
          "name": "stdout",
          "text": [
            "Extracting ./data/FashionMNIST/raw/t10k-images-idx3-ubyte.gz to ./data/FashionMNIST/raw\n",
            "\n",
            "Downloading http://fashion-mnist.s3-website.eu-central-1.amazonaws.com/t10k-labels-idx1-ubyte.gz\n",
            "Downloading http://fashion-mnist.s3-website.eu-central-1.amazonaws.com/t10k-labels-idx1-ubyte.gz to ./data/FashionMNIST/raw/t10k-labels-idx1-ubyte.gz\n"
          ]
        },
        {
          "output_type": "stream",
          "name": "stderr",
          "text": [
            "100%|██████████| 5148/5148 [00:00<00:00, 20564073.33it/s]\n"
          ]
        },
        {
          "output_type": "stream",
          "name": "stdout",
          "text": [
            "Extracting ./data/FashionMNIST/raw/t10k-labels-idx1-ubyte.gz to ./data/FashionMNIST/raw\n",
            "\n"
          ]
        }
      ]
    },
    {
      "cell_type": "code",
      "source": [
        "trainloader = torch.utils.data.DataLoader(trainset, batch_size=32, shuffle=True, num_workers=2)"
      ],
      "metadata": {
        "id": "PEXmPEOVCtZZ"
      },
      "execution_count": 4,
      "outputs": []
    },
    {
      "cell_type": "code",
      "source": [
        "testset = torchvision.datasets.FashionMNIST(root='./data', train=False, download=True, transform=transform)"
      ],
      "metadata": {
        "id": "dkDwPlWADQTC"
      },
      "execution_count": 5,
      "outputs": []
    },
    {
      "cell_type": "code",
      "source": [
        "testloader = torch.utils.data.DataLoader(testset, batch_size=32, shuffle=False, num_workers=2)"
      ],
      "metadata": {
        "id": "SG5j9Y8nDU0y"
      },
      "execution_count": 6,
      "outputs": []
    },
    {
      "cell_type": "code",
      "source": [
        "\n",
        "class Net(nn.Module):\n",
        "    def __init__(self):\n",
        "        super(Net, self).__init__()\n",
        "        self.conv1 = nn.Conv2d(1, 32, kernel_size=3)\n",
        "        self.conv2 = nn.Conv2d(32, 64, kernel_size=3)\n",
        "        self.fc1 = nn.Linear(1600, 256)\n",
        "        self.fc2 = nn.Linear(256, 128)\n",
        "        self.fc3 = nn.Linear(128, 10)\n",
        "\n",
        "    def forward(self, x):\n",
        "        x = F.relu(self.conv1(x))\n",
        "        x = F.max_pool2d(x, 2)\n",
        "        x = F.relu(self.conv2(x))\n",
        "        x = F.max_pool2d(x, 2)\n",
        "        x = x.view(-1, 1600)\n",
        "        x = F.relu(self.fc1(x))\n",
        "        x = F.relu(self.fc2(x))\n",
        "        x = self.fc3(x)\n",
        "        return F.log_softmax(x, dim=1)"
      ],
      "metadata": {
        "id": "evHi2D-YDXLV"
      },
      "execution_count": 7,
      "outputs": []
    },
    {
      "cell_type": "code",
      "source": [
        "net=Net()\n",
        "criterion = nn.CrossEntropyLoss()\n",
        "optimizer = optim.Adam(net.parameters(), lr=0.001)"
      ],
      "metadata": {
        "id": "uVaB0GfNDoE2"
      },
      "execution_count": 8,
      "outputs": []
    },
    {
      "cell_type": "code",
      "source": [
        "for epoch in range(20):\n",
        "    running_loss = 0.0\n",
        "    for i, data in enumerate(trainloader, 0):\n",
        "        inputs, labels = data\n",
        "        optimizer.zero_grad()\n",
        "        outputs = net(inputs)\n",
        "        loss = criterion(outputs, labels)\n",
        "        loss.backward()\n",
        "        optimizer.step()\n",
        "        running_loss += loss.item()\n",
        "        if i % 100 == 99:\n",
        "            print('[%d, %5d] loss: %.3f' % (epoch + 1, i + 1, running_loss / 100))\n",
        "            running_loss = 0.0"
      ],
      "metadata": {
        "colab": {
          "base_uri": "https://localhost:8080/"
        },
        "id": "d0r9GDnJDswT",
        "outputId": "a1dfd75f-0af7-4a4e-8318-21c05905bc3c"
      },
      "execution_count": 9,
      "outputs": [
        {
          "output_type": "stream",
          "name": "stdout",
          "text": [
            "[1,   100] loss: 1.021\n",
            "[1,   200] loss: 0.578\n",
            "[1,   300] loss: 0.563\n",
            "[1,   400] loss: 0.504\n",
            "[1,   500] loss: 0.429\n",
            "[1,   600] loss: 0.441\n",
            "[1,   700] loss: 0.431\n",
            "[1,   800] loss: 0.382\n",
            "[1,   900] loss: 0.369\n",
            "[1,  1000] loss: 0.403\n",
            "[1,  1100] loss: 0.372\n",
            "[1,  1200] loss: 0.343\n",
            "[1,  1300] loss: 0.349\n",
            "[1,  1400] loss: 0.334\n",
            "[1,  1500] loss: 0.336\n",
            "[1,  1600] loss: 0.347\n",
            "[1,  1700] loss: 0.318\n",
            "[1,  1800] loss: 0.334\n",
            "[2,   100] loss: 0.270\n",
            "[2,   200] loss: 0.290\n",
            "[2,   300] loss: 0.293\n",
            "[2,   400] loss: 0.301\n",
            "[2,   500] loss: 0.300\n",
            "[2,   600] loss: 0.274\n",
            "[2,   700] loss: 0.298\n",
            "[2,   800] loss: 0.276\n",
            "[2,   900] loss: 0.307\n",
            "[2,  1000] loss: 0.300\n",
            "[2,  1100] loss: 0.260\n",
            "[2,  1200] loss: 0.275\n",
            "[2,  1300] loss: 0.259\n",
            "[2,  1400] loss: 0.272\n",
            "[2,  1500] loss: 0.286\n",
            "[2,  1600] loss: 0.285\n",
            "[2,  1700] loss: 0.291\n",
            "[2,  1800] loss: 0.278\n",
            "[3,   100] loss: 0.238\n",
            "[3,   200] loss: 0.226\n",
            "[3,   300] loss: 0.259\n",
            "[3,   400] loss: 0.238\n",
            "[3,   500] loss: 0.243\n",
            "[3,   600] loss: 0.258\n",
            "[3,   700] loss: 0.222\n",
            "[3,   800] loss: 0.239\n",
            "[3,   900] loss: 0.235\n",
            "[3,  1000] loss: 0.228\n",
            "[3,  1100] loss: 0.214\n",
            "[3,  1200] loss: 0.231\n",
            "[3,  1300] loss: 0.233\n",
            "[3,  1400] loss: 0.226\n",
            "[3,  1500] loss: 0.243\n",
            "[3,  1600] loss: 0.233\n",
            "[3,  1700] loss: 0.259\n",
            "[3,  1800] loss: 0.263\n",
            "[4,   100] loss: 0.195\n",
            "[4,   200] loss: 0.190\n",
            "[4,   300] loss: 0.175\n",
            "[4,   400] loss: 0.199\n",
            "[4,   500] loss: 0.206\n",
            "[4,   600] loss: 0.219\n",
            "[4,   700] loss: 0.206\n",
            "[4,   800] loss: 0.189\n",
            "[4,   900] loss: 0.187\n",
            "[4,  1000] loss: 0.223\n",
            "[4,  1100] loss: 0.201\n",
            "[4,  1200] loss: 0.211\n",
            "[4,  1300] loss: 0.205\n",
            "[4,  1400] loss: 0.212\n",
            "[4,  1500] loss: 0.210\n",
            "[4,  1600] loss: 0.228\n",
            "[4,  1700] loss: 0.206\n",
            "[4,  1800] loss: 0.197\n",
            "[5,   100] loss: 0.173\n",
            "[5,   200] loss: 0.165\n",
            "[5,   300] loss: 0.165\n",
            "[5,   400] loss: 0.172\n",
            "[5,   500] loss: 0.164\n",
            "[5,   600] loss: 0.184\n",
            "[5,   700] loss: 0.177\n",
            "[5,   800] loss: 0.185\n",
            "[5,   900] loss: 0.165\n",
            "[5,  1000] loss: 0.185\n",
            "[5,  1100] loss: 0.160\n",
            "[5,  1200] loss: 0.184\n",
            "[5,  1300] loss: 0.168\n",
            "[5,  1400] loss: 0.176\n",
            "[5,  1500] loss: 0.164\n",
            "[5,  1600] loss: 0.195\n",
            "[5,  1700] loss: 0.181\n",
            "[5,  1800] loss: 0.189\n",
            "[6,   100] loss: 0.133\n",
            "[6,   200] loss: 0.142\n",
            "[6,   300] loss: 0.148\n",
            "[6,   400] loss: 0.143\n",
            "[6,   500] loss: 0.144\n",
            "[6,   600] loss: 0.147\n",
            "[6,   700] loss: 0.158\n",
            "[6,   800] loss: 0.162\n",
            "[6,   900] loss: 0.165\n",
            "[6,  1000] loss: 0.157\n",
            "[6,  1100] loss: 0.147\n",
            "[6,  1200] loss: 0.147\n",
            "[6,  1300] loss: 0.161\n",
            "[6,  1400] loss: 0.145\n",
            "[6,  1500] loss: 0.170\n",
            "[6,  1600] loss: 0.159\n",
            "[6,  1700] loss: 0.162\n",
            "[6,  1800] loss: 0.140\n",
            "[7,   100] loss: 0.120\n",
            "[7,   200] loss: 0.119\n",
            "[7,   300] loss: 0.134\n",
            "[7,   400] loss: 0.130\n",
            "[7,   500] loss: 0.120\n",
            "[7,   600] loss: 0.143\n",
            "[7,   700] loss: 0.139\n",
            "[7,   800] loss: 0.126\n",
            "[7,   900] loss: 0.134\n",
            "[7,  1000] loss: 0.143\n",
            "[7,  1100] loss: 0.123\n",
            "[7,  1200] loss: 0.127\n",
            "[7,  1300] loss: 0.132\n",
            "[7,  1400] loss: 0.130\n",
            "[7,  1500] loss: 0.130\n",
            "[7,  1600] loss: 0.127\n",
            "[7,  1700] loss: 0.133\n",
            "[7,  1800] loss: 0.134\n",
            "[8,   100] loss: 0.105\n",
            "[8,   200] loss: 0.116\n",
            "[8,   300] loss: 0.110\n",
            "[8,   400] loss: 0.097\n",
            "[8,   500] loss: 0.118\n",
            "[8,   600] loss: 0.114\n",
            "[8,   700] loss: 0.119\n",
            "[8,   800] loss: 0.123\n",
            "[8,   900] loss: 0.096\n",
            "[8,  1000] loss: 0.118\n",
            "[8,  1100] loss: 0.106\n",
            "[8,  1200] loss: 0.109\n",
            "[8,  1300] loss: 0.125\n",
            "[8,  1400] loss: 0.120\n",
            "[8,  1500] loss: 0.100\n",
            "[8,  1600] loss: 0.116\n",
            "[8,  1700] loss: 0.122\n",
            "[8,  1800] loss: 0.112\n",
            "[9,   100] loss: 0.094\n",
            "[9,   200] loss: 0.095\n",
            "[9,   300] loss: 0.094\n",
            "[9,   400] loss: 0.080\n",
            "[9,   500] loss: 0.088\n",
            "[9,   600] loss: 0.116\n",
            "[9,   700] loss: 0.092\n",
            "[9,   800] loss: 0.091\n",
            "[9,   900] loss: 0.107\n",
            "[9,  1000] loss: 0.114\n",
            "[9,  1100] loss: 0.114\n",
            "[9,  1200] loss: 0.095\n",
            "[9,  1300] loss: 0.100\n",
            "[9,  1400] loss: 0.113\n",
            "[9,  1500] loss: 0.106\n",
            "[9,  1600] loss: 0.096\n",
            "[9,  1700] loss: 0.116\n",
            "[9,  1800] loss: 0.112\n",
            "[10,   100] loss: 0.068\n",
            "[10,   200] loss: 0.075\n",
            "[10,   300] loss: 0.075\n",
            "[10,   400] loss: 0.071\n",
            "[10,   500] loss: 0.079\n",
            "[10,   600] loss: 0.074\n",
            "[10,   700] loss: 0.088\n",
            "[10,   800] loss: 0.078\n",
            "[10,   900] loss: 0.084\n",
            "[10,  1000] loss: 0.102\n",
            "[10,  1100] loss: 0.087\n",
            "[10,  1200] loss: 0.089\n",
            "[10,  1300] loss: 0.099\n",
            "[10,  1400] loss: 0.100\n",
            "[10,  1500] loss: 0.095\n",
            "[10,  1600] loss: 0.084\n",
            "[10,  1700] loss: 0.103\n",
            "[10,  1800] loss: 0.095\n",
            "[11,   100] loss: 0.071\n",
            "[11,   200] loss: 0.071\n",
            "[11,   300] loss: 0.078\n",
            "[11,   400] loss: 0.061\n",
            "[11,   500] loss: 0.094\n",
            "[11,   600] loss: 0.098\n",
            "[11,   700] loss: 0.077\n",
            "[11,   800] loss: 0.073\n",
            "[11,   900] loss: 0.076\n",
            "[11,  1000] loss: 0.096\n",
            "[11,  1100] loss: 0.079\n",
            "[11,  1200] loss: 0.063\n",
            "[11,  1300] loss: 0.077\n",
            "[11,  1400] loss: 0.084\n",
            "[11,  1500] loss: 0.093\n",
            "[11,  1600] loss: 0.076\n",
            "[11,  1700] loss: 0.082\n",
            "[11,  1800] loss: 0.078\n",
            "[12,   100] loss: 0.064\n",
            "[12,   200] loss: 0.072\n",
            "[12,   300] loss: 0.054\n",
            "[12,   400] loss: 0.059\n",
            "[12,   500] loss: 0.062\n",
            "[12,   600] loss: 0.085\n",
            "[12,   700] loss: 0.076\n",
            "[12,   800] loss: 0.063\n",
            "[12,   900] loss: 0.074\n",
            "[12,  1000] loss: 0.075\n",
            "[12,  1100] loss: 0.065\n",
            "[12,  1200] loss: 0.084\n",
            "[12,  1300] loss: 0.069\n",
            "[12,  1400] loss: 0.071\n",
            "[12,  1500] loss: 0.082\n",
            "[12,  1600] loss: 0.088\n",
            "[12,  1700] loss: 0.074\n",
            "[12,  1800] loss: 0.071\n",
            "[13,   100] loss: 0.049\n",
            "[13,   200] loss: 0.068\n",
            "[13,   300] loss: 0.053\n",
            "[13,   400] loss: 0.049\n",
            "[13,   500] loss: 0.062\n",
            "[13,   600] loss: 0.081\n",
            "[13,   700] loss: 0.071\n",
            "[13,   800] loss: 0.067\n",
            "[13,   900] loss: 0.059\n",
            "[13,  1000] loss: 0.065\n",
            "[13,  1100] loss: 0.059\n",
            "[13,  1200] loss: 0.056\n",
            "[13,  1300] loss: 0.061\n",
            "[13,  1400] loss: 0.073\n",
            "[13,  1500] loss: 0.071\n",
            "[13,  1600] loss: 0.076\n",
            "[13,  1700] loss: 0.064\n",
            "[13,  1800] loss: 0.061\n",
            "[14,   100] loss: 0.043\n",
            "[14,   200] loss: 0.044\n",
            "[14,   300] loss: 0.040\n",
            "[14,   400] loss: 0.053\n",
            "[14,   500] loss: 0.065\n",
            "[14,   600] loss: 0.048\n",
            "[14,   700] loss: 0.036\n",
            "[14,   800] loss: 0.045\n",
            "[14,   900] loss: 0.059\n",
            "[14,  1000] loss: 0.060\n",
            "[14,  1100] loss: 0.066\n",
            "[14,  1200] loss: 0.065\n",
            "[14,  1300] loss: 0.066\n",
            "[14,  1400] loss: 0.070\n",
            "[14,  1500] loss: 0.083\n",
            "[14,  1600] loss: 0.068\n",
            "[14,  1700] loss: 0.051\n",
            "[14,  1800] loss: 0.064\n",
            "[15,   100] loss: 0.044\n",
            "[15,   200] loss: 0.038\n",
            "[15,   300] loss: 0.050\n",
            "[15,   400] loss: 0.049\n",
            "[15,   500] loss: 0.038\n",
            "[15,   600] loss: 0.060\n",
            "[15,   700] loss: 0.046\n",
            "[15,   800] loss: 0.057\n",
            "[15,   900] loss: 0.053\n",
            "[15,  1000] loss: 0.061\n",
            "[15,  1100] loss: 0.068\n",
            "[15,  1200] loss: 0.047\n",
            "[15,  1300] loss: 0.037\n",
            "[15,  1400] loss: 0.044\n",
            "[15,  1500] loss: 0.046\n",
            "[15,  1600] loss: 0.055\n",
            "[15,  1700] loss: 0.070\n",
            "[15,  1800] loss: 0.052\n",
            "[16,   100] loss: 0.041\n",
            "[16,   200] loss: 0.055\n",
            "[16,   300] loss: 0.049\n",
            "[16,   400] loss: 0.049\n",
            "[16,   500] loss: 0.048\n",
            "[16,   600] loss: 0.032\n",
            "[16,   700] loss: 0.035\n",
            "[16,   800] loss: 0.045\n",
            "[16,   900] loss: 0.057\n",
            "[16,  1000] loss: 0.055\n",
            "[16,  1100] loss: 0.067\n",
            "[16,  1200] loss: 0.048\n",
            "[16,  1300] loss: 0.064\n",
            "[16,  1400] loss: 0.052\n",
            "[16,  1500] loss: 0.059\n",
            "[16,  1600] loss: 0.049\n",
            "[16,  1700] loss: 0.041\n",
            "[16,  1800] loss: 0.056\n",
            "[17,   100] loss: 0.030\n",
            "[17,   200] loss: 0.029\n",
            "[17,   300] loss: 0.032\n",
            "[17,   400] loss: 0.044\n",
            "[17,   500] loss: 0.040\n",
            "[17,   600] loss: 0.045\n",
            "[17,   700] loss: 0.039\n",
            "[17,   800] loss: 0.032\n",
            "[17,   900] loss: 0.043\n",
            "[17,  1000] loss: 0.049\n",
            "[17,  1100] loss: 0.045\n",
            "[17,  1200] loss: 0.052\n",
            "[17,  1300] loss: 0.044\n",
            "[17,  1400] loss: 0.055\n",
            "[17,  1500] loss: 0.059\n",
            "[17,  1600] loss: 0.051\n",
            "[17,  1700] loss: 0.065\n",
            "[17,  1800] loss: 0.051\n",
            "[18,   100] loss: 0.034\n",
            "[18,   200] loss: 0.059\n",
            "[18,   300] loss: 0.033\n",
            "[18,   400] loss: 0.032\n",
            "[18,   500] loss: 0.040\n",
            "[18,   600] loss: 0.052\n",
            "[18,   700] loss: 0.050\n",
            "[18,   800] loss: 0.031\n",
            "[18,   900] loss: 0.030\n",
            "[18,  1000] loss: 0.043\n",
            "[18,  1100] loss: 0.043\n",
            "[18,  1200] loss: 0.051\n",
            "[18,  1300] loss: 0.054\n",
            "[18,  1400] loss: 0.037\n",
            "[18,  1500] loss: 0.042\n",
            "[18,  1600] loss: 0.038\n",
            "[18,  1700] loss: 0.048\n",
            "[18,  1800] loss: 0.041\n",
            "[19,   100] loss: 0.028\n",
            "[19,   200] loss: 0.045\n",
            "[19,   300] loss: 0.046\n",
            "[19,   400] loss: 0.048\n",
            "[19,   500] loss: 0.030\n",
            "[19,   600] loss: 0.047\n",
            "[19,   700] loss: 0.036\n",
            "[19,   800] loss: 0.055\n",
            "[19,   900] loss: 0.036\n",
            "[19,  1000] loss: 0.032\n",
            "[19,  1100] loss: 0.031\n",
            "[19,  1200] loss: 0.025\n",
            "[19,  1300] loss: 0.028\n",
            "[19,  1400] loss: 0.058\n",
            "[19,  1500] loss: 0.051\n",
            "[19,  1600] loss: 0.040\n",
            "[19,  1700] loss: 0.057\n",
            "[19,  1800] loss: 0.044\n",
            "[20,   100] loss: 0.043\n",
            "[20,   200] loss: 0.032\n",
            "[20,   300] loss: 0.033\n",
            "[20,   400] loss: 0.025\n",
            "[20,   500] loss: 0.027\n",
            "[20,   600] loss: 0.026\n",
            "[20,   700] loss: 0.035\n",
            "[20,   800] loss: 0.034\n",
            "[20,   900] loss: 0.027\n",
            "[20,  1000] loss: 0.035\n",
            "[20,  1100] loss: 0.047\n",
            "[20,  1200] loss: 0.042\n",
            "[20,  1300] loss: 0.043\n",
            "[20,  1400] loss: 0.032\n",
            "[20,  1500] loss: 0.067\n",
            "[20,  1600] loss: 0.056\n",
            "[20,  1700] loss: 0.059\n",
            "[20,  1800] loss: 0.045\n"
          ]
        }
      ]
    },
    {
      "cell_type": "code",
      "source": [
        "\n",
        "correct = 0\n",
        "total = 0\n",
        "with torch.no_grad():\n",
        "    for data in testloader:\n",
        "        images, labels = data\n",
        "        outputs = net(images)\n",
        "        _, predicted = torch.max(outputs.data, 1)\n",
        "        total += labels.size(0)\n",
        "        correct += (predicted == labels).sum().item()\n",
        "\n",
        "print('Accuracy : %d %%' % (100 * correct / total))"
      ],
      "metadata": {
        "colab": {
          "base_uri": "https://localhost:8080/"
        },
        "id": "_sZvTH5oDvfY",
        "outputId": "740d1272-4c13-4a78-f6b0-bd032142c5a5"
      },
      "execution_count": 10,
      "outputs": [
        {
          "output_type": "stream",
          "name": "stdout",
          "text": [
            "Accuracy : 90 %\n"
          ]
        }
      ]
    }
  ]
}